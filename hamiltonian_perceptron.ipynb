{
 "cells": [
  {
   "cell_type": "code",
   "execution_count": 33,
   "metadata": {},
   "outputs": [],
   "source": [
    "import numpy as np\n",
    "\n",
    "from itertools import product\n",
    "\n",
    "import matplotlib.pyplot as plt\n",
    "from matplotlib.animation import FuncAnimation\n",
    "%matplotlib inline"
   ]
  },
  {
   "cell_type": "code",
   "execution_count": 2,
   "metadata": {},
   "outputs": [],
   "source": [
    "def sigmoid(x):\n",
    "    return 1 / (1 + np.exp(-x))"
   ]
  },
  {
   "cell_type": "code",
   "execution_count": 3,
   "metadata": {},
   "outputs": [],
   "source": [
    "class Perceptron:\n",
    "    \n",
    "    def __init__(self, epsilon, n_steps, alpha = 0, w0 = None):\n",
    "        if w0 == None:\n",
    "            self.w = np.random.normal(size = 2).reshape((2, ))\n",
    "        else:\n",
    "            self.w = w0\n",
    "            \n",
    "        self.alpha = alpha\n",
    "        self.epsilon = epsilon\n",
    "        self.n_steps = n_steps\n",
    "        \n",
    "    def forward(self, X):\n",
    "        return sigmoid(X @ self.w)\n",
    "        \n",
    "    def loss(self, preds, y):\n",
    "        G = -(y @ np.log(preds) + (1 - y) @ np.log(1 - preds))\n",
    "        EW = self.w @ self.w / 2\n",
    "        return G + self.alpha * EW\n",
    "        \n",
    "    def grad(self, X, y):\n",
    "        y_pred = self.forward(X)\n",
    "        err = y - y_pred\n",
    "        return -X.T @ err + self.alpha * self.w\n",
    "        \n",
    "    def HMC_update(self, X, y):\n",
    "        p = np.random.normal(size = self.w.shape)\n",
    "        w_buf = self.w\n",
    "        H_old = p @ p / 2 + self.loss(self.forward(X), y)\n",
    "        \n",
    "        for i in range(self.n_steps):\n",
    "            p -= self.epsilon/2 * self.grad(X, y)\n",
    "            self.w += self.epsilon * p\n",
    "            p -= self.epsilon/2 * self.grad(X, y)\n",
    "            \n",
    "        H_new = p @ p/2 + self.loss(self.forward(X), y)\n",
    "        dH = H_new - H_old\n",
    "        \n",
    "        if dH > 0 and np.random.random() > np.exp(-dH):\n",
    "            self.w = w_buf"
   ]
  },
  {
   "cell_type": "code",
   "execution_count": 12,
   "metadata": {},
   "outputs": [],
   "source": [
    "def generate_data(size,\n",
    "                  mu0 = [1, 1], \n",
    "                  sigma0 = [[0.5, 0], [0, 0.5]],\n",
    "                  mu1 = [-1, -1],\n",
    "                  sigma1 = [[0.5, 0], [0, 0.5]]):\n",
    "    \n",
    "    X = np.vstack((np.random.multivariate_normal(mu0, sigma0, size = size), \n",
    "                   np.random.multivariate_normal(mu1, sigma1, size = size)))\n",
    "    \n",
    "    y = np.hstack((np.array([0] * size), np.array([1] * size)))\n",
    "    \n",
    "    return X, y"
   ]
  },
  {
   "cell_type": "code",
   "execution_count": 13,
   "metadata": {},
   "outputs": [],
   "source": [
    "X, y = generate_data(10)"
   ]
  },
  {
   "cell_type": "code",
   "execution_count": 23,
   "metadata": {},
   "outputs": [],
   "source": [
    "perceptron = Perceptron(0.05, 20, alpha = 0.1)"
   ]
  },
  {
   "cell_type": "code",
   "execution_count": 32,
   "metadata": {},
   "outputs": [
    {
     "data": {
      "text/plain": [
       "<matplotlib.collections.PathCollection at 0x7f44a97a4070>"
      ]
     },
     "execution_count": 32,
     "metadata": {},
     "output_type": "execute_result"
    },
    {
     "data": {
      "image/png": "[encoded data removed]",
      "text/plain": [
       "<Figure size 432x288 with 1 Axes>"
      ]
     },
     "metadata": {
      "needs_background": "light"
     },
     "output_type": "display_data"
    }
   ],
   "source": [
    "plt.ylim(-3, 3)\n",
    "plt.ylim(-3, 3)\n",
    "\n",
    "nx = 20\n",
    "steps = np.linspace(-3, 3, nx)\n",
    "X_, Y_ = np.meshgrid(steps, steps)\n",
    "Z_ = np.zeros_like(X_)\n",
    "inp = np.array([np.array([i, j]) for i, j in product(steps, steps)]).reshape((nx, nx, 2))\n",
    "\n",
    "n_traj = 1000\n",
    "\n",
    "for i in range(n_traj):\n",
    "    perceptron.HMC_update(X, y)\n",
    "    Z_ += perceptron.forward(inp)\n",
    "    \n",
    "Z_ /= n_traj\n",
    "\n",
    "plt.contourf(X_, Y_, Z_, levels = [0, 0.27, 0.5, 0.73, 1], cmap = 'cool')\n",
    "plt.scatter(X[:, 0][:10], X[:, 1][:10], c = 'blue', marker = 'x')  \n",
    "plt.scatter(X[:, 0][10:], X[:, 1][10:], c = 'red', marker = 'o')  "
   ]
  },
  {
   "cell_type": "code",
   "execution_count": 40,
   "metadata": {},
   "outputs": [],
   "source": [
    "perceptron = Perceptron(0.05, 20, alpha = 0.1)"
   ]
  },
  {
   "cell_type": "code",
   "execution_count": 44,
   "metadata": {},
   "outputs": [
    {
     "data": {
      "image/png": "[encoded data removed]",
      "text/plain": [
       "<Figure size 432x288 with 1 Axes>"
      ]
     },
     "metadata": {
      "needs_background": "light"
     },
     "output_type": "display_data"
    }
   ],
   "source": [
    "fig = plt.figure()\n",
    "ax = plt.axes(xlim=(-3, 3), ylim=(-3, 3))\n",
    "line, = ax.plot([], [], lw=2)\n",
    "\n",
    "ax.scatter(X[:, 0][:10], X[:, 1][:10], c = 'blue', marker = 'x')  \n",
    "ax.scatter(X[:, 0][10:], X[:, 1][10:], c = 'red', marker = 'o')\n",
    "x_ = np.array([-3, 3])\n",
    " \n",
    "def init():\n",
    "    line.set_data([], [])\n",
    "    return line,\n",
    "    \n",
    "def animate(i):\n",
    "    perceptron.HMC_update(X, y)\n",
    "    w1, w2 = perceptron.w\n",
    "    line.set_data(x_, -x_*(w2 / w1))\n",
    "    return line,\n",
    "\n",
    "anim = FuncAnimation(fig, animate, init_func=init, frames=200, interval=20, blit=True)\n",
    "anim.save('weight_evolution.gif', writer='imagemagick')\n",
    "\n",
    "plt.show()"
   ]
  },
  {
   "cell_type": "code",
   "execution_count": null,
   "metadata": {},
   "outputs": [],
   "source": []
  }
 ],
 "metadata": {
  "kernelspec": {
   "display_name": "Python 3",
   "language": "python",
   "name": "python3"
  },
  "language_info": {
   "codemirror_mode": {
    "name": "ipython",
    "version": 3
   },
   "file_extension": ".py",
   "mimetype": "text/x-python",
   "name": "python",
   "nbconvert_exporter": "python",
   "pygments_lexer": "ipython3",
   "version": "3.8.2"
  }
 },
 "nbformat": 4,
 "nbformat_minor": 4
}
